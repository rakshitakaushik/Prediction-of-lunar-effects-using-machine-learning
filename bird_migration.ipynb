{
  "nbformat": 4,
  "nbformat_minor": 0,
  "metadata": {
    "colab": {
      "provenance": [],
      "authorship_tag": "ABX9TyN4GRD4U0NN/fPg+1cVegzM",
      "include_colab_link": true
    },
    "kernelspec": {
      "name": "python3",
      "display_name": "Python 3"
    },
    "language_info": {
      "name": "python"
    }
  },
  "cells": [
    {
      "cell_type": "markdown",
      "metadata": {
        "id": "view-in-github",
        "colab_type": "text"
      },
      "source": [
        "<a href=\"https://colab.research.google.com/github/rakshitakaushik/Prediction-of-lunar-effects-using-machine-learning/blob/main/bird_migration.ipynb\" target=\"_parent\"><img src=\"https://colab.research.google.com/assets/colab-badge.svg\" alt=\"Open In Colab\"/></a>"
      ]
    },
    {
      "cell_type": "code",
      "execution_count": null,
      "metadata": {
        "id": "SBm8n-nrBHhw",
        "colab": {
          "base_uri": "https://localhost:8080/",
          "height": 109
        },
        "outputId": "410fa2f4-de28-4090-bf42-2f5db9041166"
      },
      "outputs": [
        {
          "output_type": "display_data",
          "data": {
            "text/plain": [
              "<IPython.core.display.HTML object>"
            ],
            "text/html": [
              "\n",
              "     <input type=\"file\" id=\"files-f532c918-1158-4b30-b407-f55933385119\" name=\"files[]\" multiple disabled\n",
              "        style=\"border:none\" />\n",
              "     <output id=\"result-f532c918-1158-4b30-b407-f55933385119\">\n",
              "      Upload widget is only available when the cell has been executed in the\n",
              "      current browser session. Please rerun this cell to enable.\n",
              "      </output>\n",
              "      <script>// Copyright 2017 Google LLC\n",
              "//\n",
              "// Licensed under the Apache License, Version 2.0 (the \"License\");\n",
              "// you may not use this file except in compliance with the License.\n",
              "// You may obtain a copy of the License at\n",
              "//\n",
              "//      http://www.apache.org/licenses/LICENSE-2.0\n",
              "//\n",
              "// Unless required by applicable law or agreed to in writing, software\n",
              "// distributed under the License is distributed on an \"AS IS\" BASIS,\n",
              "// WITHOUT WARRANTIES OR CONDITIONS OF ANY KIND, either express or implied.\n",
              "// See the License for the specific language governing permissions and\n",
              "// limitations under the License.\n",
              "\n",
              "/**\n",
              " * @fileoverview Helpers for google.colab Python module.\n",
              " */\n",
              "(function(scope) {\n",
              "function span(text, styleAttributes = {}) {\n",
              "  const element = document.createElement('span');\n",
              "  element.textContent = text;\n",
              "  for (const key of Object.keys(styleAttributes)) {\n",
              "    element.style[key] = styleAttributes[key];\n",
              "  }\n",
              "  return element;\n",
              "}\n",
              "\n",
              "// Max number of bytes which will be uploaded at a time.\n",
              "const MAX_PAYLOAD_SIZE = 100 * 1024;\n",
              "\n",
              "function _uploadFiles(inputId, outputId) {\n",
              "  const steps = uploadFilesStep(inputId, outputId);\n",
              "  const outputElement = document.getElementById(outputId);\n",
              "  // Cache steps on the outputElement to make it available for the next call\n",
              "  // to uploadFilesContinue from Python.\n",
              "  outputElement.steps = steps;\n",
              "\n",
              "  return _uploadFilesContinue(outputId);\n",
              "}\n",
              "\n",
              "// This is roughly an async generator (not supported in the browser yet),\n",
              "// where there are multiple asynchronous steps and the Python side is going\n",
              "// to poll for completion of each step.\n",
              "// This uses a Promise to block the python side on completion of each step,\n",
              "// then passes the result of the previous step as the input to the next step.\n",
              "function _uploadFilesContinue(outputId) {\n",
              "  const outputElement = document.getElementById(outputId);\n",
              "  const steps = outputElement.steps;\n",
              "\n",
              "  const next = steps.next(outputElement.lastPromiseValue);\n",
              "  return Promise.resolve(next.value.promise).then((value) => {\n",
              "    // Cache the last promise value to make it available to the next\n",
              "    // step of the generator.\n",
              "    outputElement.lastPromiseValue = value;\n",
              "    return next.value.response;\n",
              "  });\n",
              "}\n",
              "\n",
              "/**\n",
              " * Generator function which is called between each async step of the upload\n",
              " * process.\n",
              " * @param {string} inputId Element ID of the input file picker element.\n",
              " * @param {string} outputId Element ID of the output display.\n",
              " * @return {!Iterable<!Object>} Iterable of next steps.\n",
              " */\n",
              "function* uploadFilesStep(inputId, outputId) {\n",
              "  const inputElement = document.getElementById(inputId);\n",
              "  inputElement.disabled = false;\n",
              "\n",
              "  const outputElement = document.getElementById(outputId);\n",
              "  outputElement.innerHTML = '';\n",
              "\n",
              "  const pickedPromise = new Promise((resolve) => {\n",
              "    inputElement.addEventListener('change', (e) => {\n",
              "      resolve(e.target.files);\n",
              "    });\n",
              "  });\n",
              "\n",
              "  const cancel = document.createElement('button');\n",
              "  inputElement.parentElement.appendChild(cancel);\n",
              "  cancel.textContent = 'Cancel upload';\n",
              "  const cancelPromise = new Promise((resolve) => {\n",
              "    cancel.onclick = () => {\n",
              "      resolve(null);\n",
              "    };\n",
              "  });\n",
              "\n",
              "  // Wait for the user to pick the files.\n",
              "  const files = yield {\n",
              "    promise: Promise.race([pickedPromise, cancelPromise]),\n",
              "    response: {\n",
              "      action: 'starting',\n",
              "    }\n",
              "  };\n",
              "\n",
              "  cancel.remove();\n",
              "\n",
              "  // Disable the input element since further picks are not allowed.\n",
              "  inputElement.disabled = true;\n",
              "\n",
              "  if (!files) {\n",
              "    return {\n",
              "      response: {\n",
              "        action: 'complete',\n",
              "      }\n",
              "    };\n",
              "  }\n",
              "\n",
              "  for (const file of files) {\n",
              "    const li = document.createElement('li');\n",
              "    li.append(span(file.name, {fontWeight: 'bold'}));\n",
              "    li.append(span(\n",
              "        `(${file.type || 'n/a'}) - ${file.size} bytes, ` +\n",
              "        `last modified: ${\n",
              "            file.lastModifiedDate ? file.lastModifiedDate.toLocaleDateString() :\n",
              "                                    'n/a'} - `));\n",
              "    const percent = span('0% done');\n",
              "    li.appendChild(percent);\n",
              "\n",
              "    outputElement.appendChild(li);\n",
              "\n",
              "    const fileDataPromise = new Promise((resolve) => {\n",
              "      const reader = new FileReader();\n",
              "      reader.onload = (e) => {\n",
              "        resolve(e.target.result);\n",
              "      };\n",
              "      reader.readAsArrayBuffer(file);\n",
              "    });\n",
              "    // Wait for the data to be ready.\n",
              "    let fileData = yield {\n",
              "      promise: fileDataPromise,\n",
              "      response: {\n",
              "        action: 'continue',\n",
              "      }\n",
              "    };\n",
              "\n",
              "    // Use a chunked sending to avoid message size limits. See b/62115660.\n",
              "    let position = 0;\n",
              "    do {\n",
              "      const length = Math.min(fileData.byteLength - position, MAX_PAYLOAD_SIZE);\n",
              "      const chunk = new Uint8Array(fileData, position, length);\n",
              "      position += length;\n",
              "\n",
              "      const base64 = btoa(String.fromCharCode.apply(null, chunk));\n",
              "      yield {\n",
              "        response: {\n",
              "          action: 'append',\n",
              "          file: file.name,\n",
              "          data: base64,\n",
              "        },\n",
              "      };\n",
              "\n",
              "      let percentDone = fileData.byteLength === 0 ?\n",
              "          100 :\n",
              "          Math.round((position / fileData.byteLength) * 100);\n",
              "      percent.textContent = `${percentDone}% done`;\n",
              "\n",
              "    } while (position < fileData.byteLength);\n",
              "  }\n",
              "\n",
              "  // All done.\n",
              "  yield {\n",
              "    response: {\n",
              "      action: 'complete',\n",
              "    }\n",
              "  };\n",
              "}\n",
              "\n",
              "scope.google = scope.google || {};\n",
              "scope.google.colab = scope.google.colab || {};\n",
              "scope.google.colab._files = {\n",
              "  _uploadFiles,\n",
              "  _uploadFilesContinue,\n",
              "};\n",
              "})(self);\n",
              "</script> "
            ]
          },
          "metadata": {}
        },
        {
          "output_type": "stream",
          "name": "stdout",
          "text": [
            "Saving stopover.csv to stopover.csv\n",
            "Saving flights.csv to flights.csv\n"
          ]
        }
      ],
      "source": [
        "from google.colab import files\n",
        "uploaded = files.upload()"
      ]
    },
    {
      "cell_type": "code",
      "source": [
        "import pandas as pd\n",
        "\n",
        "# Load the first database\n",
        "database1 = pd.read_csv('stopover.csv')\n",
        "\n",
        "# Load the second database\n",
        "database2 = pd.read_csv('flights.csv')\n",
        "\n",
        "# Inspect the first few rows of each database\n",
        "print(\"Database 1 - First 15 rows:\")\n",
        "print(database1.head(15))\n",
        "\n",
        "print(\"\\nDatabase 2 - First 15 rows:\")\n",
        "print(database2.head(15))"
      ],
      "metadata": {
        "id": "hIqwb0aWU47c"
      },
      "execution_count": null,
      "outputs": []
    },
    {
      "cell_type": "code",
      "source": [
        "\n",
        "\n",
        "# Merge the databases using a common key\n",
        "merged_df = pd.merge(database1, database2, on='Id', how='inner')\n",
        "\n",
        "# Display the merged dataframe\n",
        "print(\"\\nMerged DataFrame - first 10 rows:\")\n",
        "print(merged_df.head(10))\n",
        "\n",
        "# Now you can proceed with preprocessing the merged dataframe\n"
      ],
      "metadata": {
        "colab": {
          "base_uri": "https://localhost:8080/"
        },
        "id": "cgPPFdX6HyK_",
        "outputId": "b070250f-93b6-4975-f172-a88b59e04a06"
      },
      "execution_count": null,
      "outputs": [
        {
          "output_type": "stream",
          "name": "stdout",
          "text": [
            "\n",
            "Merged DataFrame - first 10 rows:\n",
            "       Id     Region  Season  Duration  Timing  Exp. Time.        Date  Flight\n",
            "0  X15056  Temperate  Autumn      34.0    20.0        32.0  07-08-2016     0.0\n",
            "1  X15056  Temperate  Autumn      34.0    20.0        32.0  08-08-2016     0.0\n",
            "2  X15056  Temperate  Autumn      34.0    20.0        32.0  09-08-2016     0.0\n",
            "3  X15056  Temperate  Autumn      34.0    20.0        32.0  10-08-2016     0.0\n",
            "4  X15056  Temperate  Autumn      34.0    20.0        32.0  11-08-2016     0.0\n",
            "5  X15056  Temperate  Autumn      34.0    20.0        32.0  12-08-2016     0.0\n",
            "6  X15056  Temperate  Autumn      34.0    20.0        32.0  13-08-2016     0.0\n",
            "7  X15056  Temperate  Autumn      34.0    20.0        32.0  14-08-2016     0.0\n",
            "8  X15056  Temperate  Autumn      34.0    20.0        32.0  15-08-2016     0.0\n",
            "9  X15056  Temperate  Autumn      34.0    20.0        32.0  16-08-2016     0.0\n"
          ]
        }
      ]
    },
    {
      "cell_type": "code",
      "source": [
        "# Preprocessing for Merged DataFrame\n",
        "# Convert 'Date' column to datetime format with the correct format specified\n",
        "merged_df['Date'] = pd.to_datetime(merged_df['Date'], format='%d-%m-%Y')\n",
        "\n",
        "# Extract additional features from 'Date' column\n",
        "merged_df['Month'] = merged_df['Date'].dt.month\n",
        "merged_df['Day'] = merged_df['Date'].dt.day\n",
        "merged_df['year'] = merged_df['Date'].dt.year"
      ],
      "metadata": {
        "id": "2sqVUuwya5Ae"
      },
      "execution_count": null,
      "outputs": []
    },
    {
      "cell_type": "code",
      "source": [
        "import pandas as pd\n",
        "\n",
        "\n",
        "\n",
        "# Inspect the first few rows of the dataframe\n",
        "print(\"First few rows of the merged dataframe:\")\n",
        "print(merged_df.head())\n",
        "\n",
        "# Check the data types of each column\n",
        "print(\"\\nData types of each column:\")\n",
        "print(merged_df.dtypes)\n",
        "\n",
        "# Attempt to convert each column to numeric type\n",
        "for column in merged_df.columns:\n",
        "    try:\n",
        "        merged_df[column] = pd.to_numeric(merged_df[column])\n",
        "    except ValueError as e:\n",
        "        print(f\"Error converting column '{column}': {e}\")\n",
        "\n",
        "# Check if any non-numeric values remain in the dataframe\n",
        "non_numeric_values = merged_df.select_dtypes(exclude='number')\n",
        "if not non_numeric_values.empty:\n",
        "    print(\"\\nNon-numeric values:\")\n",
        "    print(non_numeric_values)\n",
        "\n",
        "# If non-numeric values are found, you can decide on an appropriate strategy to handle them\n",
        "\n"
      ],
      "metadata": {
        "colab": {
          "base_uri": "https://localhost:8080/"
        },
        "id": "JuV2QRNkbfJ4",
        "outputId": "1db9d336-1796-4182-daec-ed39b5c63455"
      },
      "execution_count": null,
      "outputs": [
        {
          "output_type": "stream",
          "name": "stdout",
          "text": [
            "First few rows of the merged dataframe:\n",
            "       Id     Region  Season  Duration  Timing  Exp. Time.       Date  Flight  \\\n",
            "0  X15056  Temperate  Autumn      34.0    20.0        32.0 2016-08-07     0.0   \n",
            "1  X15056  Temperate  Autumn      34.0    20.0        32.0 2016-08-08     0.0   \n",
            "2  X15056  Temperate  Autumn      34.0    20.0        32.0 2016-08-09     0.0   \n",
            "3  X15056  Temperate  Autumn      34.0    20.0        32.0 2016-08-10     0.0   \n",
            "4  X15056  Temperate  Autumn      34.0    20.0        32.0 2016-08-11     0.0   \n",
            "\n",
            "   Month  Day  year  \n",
            "0      8    7  2016  \n",
            "1      8    8  2016  \n",
            "2      8    9  2016  \n",
            "3      8   10  2016  \n",
            "4      8   11  2016  \n",
            "\n",
            "Data types of each column:\n",
            "Id                    object\n",
            "Region                object\n",
            "Season                object\n",
            "Duration             float64\n",
            "Timing               float64\n",
            "Exp. Time.           float64\n",
            "Date          datetime64[ns]\n",
            "Flight               float64\n",
            "Month                  int32\n",
            "Day                    int32\n",
            "year                   int32\n",
            "dtype: object\n",
            "Error converting column 'Id': Unable to parse string \"X15056\" at position 0\n",
            "Error converting column 'Region': Unable to parse string \"Temperate\" at position 0\n",
            "Error converting column 'Season': Unable to parse string \"Autumn\" at position 0\n",
            "\n",
            "Non-numeric values:\n",
            "           Id     Region  Season\n",
            "0      X15056  Temperate  Autumn\n",
            "1      X15056  Temperate  Autumn\n",
            "2      X15056  Temperate  Autumn\n",
            "3      X15056  Temperate  Autumn\n",
            "4      X15056  Temperate  Autumn\n",
            "...       ...        ...     ...\n",
            "28511    X630      Sahel  Spring\n",
            "28512    X630      Sahel  Spring\n",
            "28513    X630      Sahel  Spring\n",
            "28514    X630      Sahel  Spring\n",
            "28515    X630      Sahel  Spring\n",
            "\n",
            "[28516 rows x 3 columns]\n"
          ]
        }
      ]
    },
    {
      "cell_type": "code",
      "source": [
        "# Apply one-hot encoding to categorical columns\n",
        "merged_df_encoded = pd.get_dummies(merged_df, columns=['Region', 'Season'])\n",
        "\n",
        "# Drop the original categorical columns\n",
        "merged_df_encoded.drop(columns=['Id'], inplace=True)  # Assuming 'Id' is not useful for analysis\n",
        "\n",
        "# Inspect the encoded dataframe\n",
        "print(\"Encoded dataframe:\")\n",
        "print(merged_df_encoded.head())\n"
      ],
      "metadata": {
        "colab": {
          "base_uri": "https://localhost:8080/"
        },
        "id": "H7Usf_Jbbiwg",
        "outputId": "806535d6-e52c-4349-f103-4b1a34e5b025"
      },
      "execution_count": null,
      "outputs": [
        {
          "output_type": "stream",
          "name": "stdout",
          "text": [
            "Encoded dataframe:\n",
            "   Duration  Timing  Exp. Time.                 Date  Flight  Month  Day  \\\n",
            "0      34.0    20.0        32.0  1470528000000000000     0.0      8    7   \n",
            "1      34.0    20.0        32.0  1470614400000000000     0.0      8    8   \n",
            "2      34.0    20.0        32.0  1470700800000000000     0.0      8    9   \n",
            "3      34.0    20.0        32.0  1470787200000000000     0.0      8   10   \n",
            "4      34.0    20.0        32.0  1470873600000000000     0.0      8   11   \n",
            "\n",
            "   year  Region_Sahel  Region_Temperate  Season_Autumn  Season_Spring  \n",
            "0  2016         False              True           True          False  \n",
            "1  2016         False              True           True          False  \n",
            "2  2016         False              True           True          False  \n",
            "3  2016         False              True           True          False  \n",
            "4  2016         False              True           True          False  \n"
          ]
        }
      ]
    },
    {
      "cell_type": "code",
      "source": [
        "import pandas as pd\n",
        "from sklearn.preprocessing import StandardScaler\n",
        "\n",
        "\n",
        "\n",
        "# Convert 'Date' column to datetime object\n",
        "merged_df['Date'] = pd.to_datetime(merged_df['Date'])\n",
        "\n",
        "# Handle missing values (if any)\n",
        "merged_df.fillna(method='ffill', inplace=True)  # Forward fill missing values\n",
        "\n",
        "# Scale numerical features\n",
        "scaler = StandardScaler()\n",
        "merged_df[['Duration', 'Timing', 'Exp. Time.']] = scaler.fit_transform(merged_df[['Duration', 'Timing', 'Exp. Time.']])\n",
        "\n",
        "# Inspect the preprocessed data\n",
        "print(merged_df.head())\n"
      ],
      "metadata": {
        "colab": {
          "base_uri": "https://localhost:8080/"
        },
        "id": "BNQLHXQJaqZc",
        "outputId": "e35aecc3-af49-4705-be08-cef8f75443aa"
      },
      "execution_count": null,
      "outputs": [
        {
          "output_type": "stream",
          "name": "stdout",
          "text": [
            "       Id     Region  Season  Duration    Timing  Exp. Time.       Date  \\\n",
            "0  X15056  Temperate  Autumn  1.419678  0.393776    1.419678 2016-08-07   \n",
            "1  X15056  Temperate  Autumn  1.419678  0.393776    1.419678 2016-08-08   \n",
            "2  X15056  Temperate  Autumn  1.419678  0.393776    1.419678 2016-08-09   \n",
            "3  X15056  Temperate  Autumn  1.419678  0.393776    1.419678 2016-08-10   \n",
            "4  X15056  Temperate  Autumn  1.419678  0.393776    1.419678 2016-08-11   \n",
            "\n",
            "   Flight  Month  Day  year  \n",
            "0     0.0      8    7  2016  \n",
            "1     0.0      8    8  2016  \n",
            "2     0.0      8    9  2016  \n",
            "3     0.0      8   10  2016  \n",
            "4     0.0      8   11  2016  \n"
          ]
        }
      ]
    },
    {
      "cell_type": "code",
      "source": [
        "import pandas as pd\n",
        "\n",
        "\n",
        "# Replace 'Flight' with the actual name of your target variable if it's different\n",
        "y = merged_df['Flight']  # Target variable (migration patterns)\n",
        "X = merged_df.drop(columns=['Flight', 'Id', 'Date'])  # Independent variables (features)\n",
        "\n",
        "# Optionally, you might want to drop other columns that are not useful for prediction\n",
        "# Adjust the list of columns to drop based on your specific dataset\n",
        "\n",
        "# Print the shapes of X and y to verify the split\n",
        "print(\"Shape of X:\", X.shape)\n",
        "print(\"Shape of y:\", y.shape)\n",
        "\n",
        "# Display the first few rows of X and y\n",
        "print(\"X (features):\")\n",
        "print(X.head(2000))\n",
        "print(\"\\ny (target variable - migration patterns):\")\n",
        "print(y.head(2000))\n"
      ],
      "metadata": {
        "colab": {
          "base_uri": "https://localhost:8080/"
        },
        "id": "YcKEM7XlJsai",
        "outputId": "a2944751-e76a-4c35-eb7c-4441f501b0a8"
      },
      "execution_count": null,
      "outputs": [
        {
          "output_type": "stream",
          "name": "stdout",
          "text": [
            "Shape of X: (28516, 8)\n",
            "Shape of y: (28516,)\n",
            "X (features):\n",
            "         Region  Season  Duration    Timing  Exp. Time.  Month  Day  year\n",
            "0     Temperate  Autumn  1.419678  0.393776    1.419678      8    7  2016\n",
            "1     Temperate  Autumn  1.419678  0.393776    1.419678      8    8  2016\n",
            "2     Temperate  Autumn  1.419678  0.393776    1.419678      8    9  2016\n",
            "3     Temperate  Autumn  1.419678  0.393776    1.419678      8   10  2016\n",
            "4     Temperate  Autumn  1.419678  0.393776    1.419678      8   11  2016\n",
            "...         ...     ...       ...       ...         ...    ...  ...   ...\n",
            "1995      Sahel  Spring -0.147638  0.220290   -0.147638      8    7  2016\n",
            "1996      Sahel  Spring -0.147638  0.220290   -0.147638      8    8  2016\n",
            "1997      Sahel  Spring -0.147638  0.220290   -0.147638      8    9  2016\n",
            "1998      Sahel  Spring -0.147638  0.220290   -0.147638      8   10  2016\n",
            "1999      Sahel  Spring -0.147638  0.220290   -0.147638      8   11  2016\n",
            "\n",
            "[2000 rows x 8 columns]\n",
            "\n",
            "y (target variable - migration patterns):\n",
            "0       0.0\n",
            "1       0.0\n",
            "2       0.0\n",
            "3       0.0\n",
            "4       0.0\n",
            "       ... \n",
            "1995    0.0\n",
            "1996    0.0\n",
            "1997    0.0\n",
            "1998    0.0\n",
            "1999    0.0\n",
            "Name: Flight, Length: 2000, dtype: float64\n"
          ]
        }
      ]
    },
    {
      "cell_type": "markdown",
      "source": [
        "using random forest"
      ],
      "metadata": {
        "id": "PkAty03B6250"
      }
    },
    {
      "cell_type": "code",
      "source": [
        "import pandas as pd\n",
        "from sklearn.model_selection import train_test_split\n",
        "from sklearn.ensemble import RandomForestClassifier  # Assuming you want to predict classification (0 or 1)\n",
        "from sklearn.ensemble import RandomForestRegressor  # Assuming you want to predict regression (continuous value)\n",
        "from sklearn.metrics import accuracy_score, mean_squared_error\n",
        "\n",
        "# Assuming your data is stored in a DataFrame called df\n",
        "# Replace 'Flight' with the actual name of your target variable if it's different\n",
        "y = merged_df['Flight']  # Target variable (migration patterns)\n",
        "X = merged_df.drop(columns=['Flight', 'Id', 'Date'])  # Independent variables (features)\n",
        "\n",
        "# Convert categorical variables to numerical values using one-hot encoding\n",
        "X = pd.get_dummies(X, columns=['Region', 'Season'])\n",
        "\n",
        "# Split the data into training and testing sets\n",
        "X_train, X_test, y_train, y_test = train_test_split(X, y, test_size=0.2, random_state=42)\n",
        "\n",
        "# Create a Random Forest classifier or regressor object\n",
        "# If predicting classification:\n",
        "# rf_model = RandomForestClassifier(n_estimators=100, random_state=42)\n",
        "# If predicting regression:\n",
        "rf_model = RandomForestRegressor(n_estimators=100, random_state=42)\n",
        "\n",
        "# Train the model on the training data\n",
        "rf_model.fit(X_train, y_train)\n",
        "\n",
        "# Make predictions on the testing data\n",
        "y_pred = rf_model.predict(X_test)\n",
        "\n",
        "# Evaluate the model (for classification)\n",
        "# If predicting classification:\n",
        "# accuracy = accuracy_score(y_test, y_pred)\n",
        "# print(\"Accuracy:\", accuracy)\n",
        "# Evaluate the model (for regression)\n",
        "# If predicting regression:\n",
        "mse = mean_squared_error(y_test, y_pred)\n",
        "print(\"Mean Squared Error:\", mse)\n"
      ],
      "metadata": {
        "colab": {
          "base_uri": "https://localhost:8080/"
        },
        "id": "kknPj9S15M0K",
        "outputId": "384b15a1-2312-43be-8c1e-208dcd7c08ed"
      },
      "execution_count": null,
      "outputs": [
        {
          "output_type": "stream",
          "name": "stdout",
          "text": [
            "Mean Squared Error: 0.05218294729292488\n"
          ]
        }
      ]
    },
    {
      "cell_type": "markdown",
      "source": [
        "using linear regression"
      ],
      "metadata": {
        "id": "bfX5hoAo65_x"
      }
    },
    {
      "cell_type": "code",
      "source": [
        "import pandas as pd\n",
        "from sklearn.model_selection import train_test_split\n",
        "from sklearn.linear_model import LinearRegression\n",
        "from sklearn.metrics import mean_squared_error\n",
        "\n",
        "# Assuming your data is stored in a DataFrame called df\n",
        "# Replace 'Flight' with the actual name of your target variable if it's different\n",
        "y = merged_df['Flight']  # Target variable (migration patterns)\n",
        "X = merged_df.drop(columns=['Flight', 'Id', 'Date'])  # Independent variables (features)\n",
        "\n",
        "# Convert categorical variables to numerical values using one-hot encoding\n",
        "X = pd.get_dummies(X, columns=['Region', 'Season'])\n",
        "\n",
        "# Split the data into training and testing sets\n",
        "X_train, X_test, y_train, y_test = train_test_split(X, y, test_size=0.2, random_state=42)\n",
        "\n",
        "# Create a Linear Regression model object\n",
        "linear_model = LinearRegression()\n",
        "\n",
        "# Train the model on the training data\n",
        "linear_model.fit(X_train, y_train)\n",
        "\n",
        "# Make predictions on the testing data\n",
        "y_pred = linear_model.predict(X_test)\n",
        "\n",
        "# Evaluate the model\n",
        "mse = mean_squared_error(y_test, y_pred)\n",
        "print(\"Mean Squared Error:\", mse)\n"
      ],
      "metadata": {
        "colab": {
          "base_uri": "https://localhost:8080/"
        },
        "id": "L-EfxCz9512C",
        "outputId": "ab021d4d-e5a6-4ecf-e603-2e36f699a703"
      },
      "execution_count": null,
      "outputs": [
        {
          "output_type": "stream",
          "name": "stdout",
          "text": [
            "Mean Squared Error: 0.1513018422637634\n"
          ]
        }
      ]
    },
    {
      "cell_type": "markdown",
      "source": [
        "using Gradient Boosting Regression"
      ],
      "metadata": {
        "id": "do2NcRm569QV"
      }
    },
    {
      "cell_type": "code",
      "source": [
        "import pandas as pd\n",
        "from sklearn.model_selection import train_test_split\n",
        "from sklearn.ensemble import GradientBoostingRegressor\n",
        "from sklearn.metrics import mean_squared_error\n",
        "\n",
        "\n",
        "# Replace 'Flight' with the actual name of your target variable if it's different\n",
        "y = merged_df['Flight']  # Target variable (migration patterns)\n",
        "X = merged_df.drop(columns=['Flight', 'Id', 'Date'])  # Independent variables (features)\n",
        "\n",
        "# Convert categorical variables to numerical values using one-hot encoding\n",
        "X = pd.get_dummies(X, columns=['Region', 'Season'])\n",
        "\n",
        "# Split the data into training and testing sets\n",
        "X_train, X_test, y_train, y_test = train_test_split(X, y, test_size=0.2, random_state=42)\n",
        "\n",
        "# Create a Gradient Boosting regressor object\n",
        "gb_model = GradientBoostingRegressor(n_estimators=100, learning_rate=0.1, random_state=42)\n",
        "\n",
        "# Train the model on the training data\n",
        "gb_model.fit(X_train, y_train)\n",
        "\n",
        "# Make predictions on the testing data\n",
        "y_pred = gb_model.predict(X_test)\n",
        "\n",
        "# Evaluate the model\n",
        "mse = mean_squared_error(y_test, y_pred)\n",
        "print(\"Mean Squared Error:\", mse)\n"
      ],
      "metadata": {
        "colab": {
          "base_uri": "https://localhost:8080/"
        },
        "id": "u258D_aq6lwC",
        "outputId": "45382b0a-c78e-4bd7-b85b-d2e85f794c45"
      },
      "execution_count": null,
      "outputs": [
        {
          "output_type": "stream",
          "name": "stdout",
          "text": [
            "Mean Squared Error: 0.10746859518346369\n"
          ]
        }
      ]
    },
    {
      "cell_type": "code",
      "source": [
        "import matplotlib.pyplot as plt\n",
        "\n",
        "# Mean Squared Error for each model (already calculated)\n",
        "rf_mse = 0.05218294729292488  # Replace with the actual MSE of Random Forest\n",
        "lr_mse = 0.15130184226376348  # Replace with the actual MSE of Linear Regression\n",
        "gb_mse = 0.10746859518346369  # Replace with the actual MSE of Gradient Boosting Regression\n",
        "\n",
        "# List of models and their corresponding MSE\n",
        "models = ['Random Forest', 'Linear Regression', 'Gradient Boosting']\n",
        "mse_values = [rf_mse, lr_mse, gb_mse]\n",
        "\n",
        "# Plotting the bar graph\n",
        "plt.figure(figsize=(10, 6))\n",
        "plt.bar(models, mse_values, color=['blue', 'orange', 'green'])\n",
        "plt.xlabel('Model')\n",
        "plt.ylabel('Mean Squared Error (MSE)')\n",
        "plt.title('Comparison of Mean Squared Error (MSE) among Different Models')\n",
        "plt.xticks(rotation=45)\n",
        "plt.grid(axis='y', linestyle='--', alpha=0.7)\n",
        "plt.show()\n"
      ],
      "metadata": {
        "colab": {
          "base_uri": "https://localhost:8080/",
          "height": 649
        },
        "id": "OuanEgRp718D",
        "outputId": "14fdfa07-0c72-46c4-dafa-113b70999d35"
      },
      "execution_count": null,
      "outputs": [
        {
          "output_type": "display_data",
          "data": {
            "text/plain": [
              "<Figure size 1000x600 with 1 Axes>"
            ],
            "image/png": "[encoded data removed]"
          },
          "metadata": {}
        }
      ]
    },
    {
      "cell_type": "code",
      "source": [
        "import pandas as pd\n",
        "from sklearn.model_selection import train_test_split\n",
        "from sklearn.ensemble import RandomForestClassifier\n",
        "from sklearn.ensemble import RandomForestRegressor\n",
        "from sklearn.metrics import accuracy_score, mean_squared_error\n",
        "\n",
        "\n",
        "# Replace 'Flight' with the actual name of your target variable if it's different\n",
        "y = merged_df['Flight']  # Target variable (migration patterns)\n",
        "X = merged_df.drop(columns=['Flight', 'Id', 'Date'])  # Independent variables (features)\n",
        "\n",
        "# Convert categorical variables to numerical values using one-hot encoding\n",
        "X = pd.get_dummies(X, columns=['Region', 'Season'])\n",
        "\n",
        "# Split the data into training and testing sets\n",
        "X_train, X_test, y_train, y_test = train_test_split(X, y, test_size=0.2, random_state=42)\n",
        "\n",
        "# Create a Random Forest classifier or regressor object\n",
        "# If predicting classification:\n",
        "# rf_model = RandomForestClassifier(n_estimators=100, random_state=42)\n",
        "# If predicting regression:\n",
        "rf_model = RandomForestRegressor(n_estimators=100, random_state=42)\n",
        "\n",
        "# Train the model on the training data\n",
        "rf_model.fit(X_train, y_train)\n",
        "\n",
        "# Make predictions on the testing data\n",
        "y_pred = rf_model.predict(X_test)\n",
        "\n",
        "# Evaluate the model (for classification)\n",
        "# If predicting classification:\n",
        "# accuracy = accuracy_score(y_test, y_pred)\n",
        "# print(\"Accuracy:\", accuracy)\n",
        "# Evaluate the model (for regression)\n",
        "# If predicting regression:\n",
        "mse = mean_squared_error(y_test, y_pred)\n",
        "print(\"Mean Squared Error:\", mse)\n"
      ],
      "metadata": {
        "colab": {
          "base_uri": "https://localhost:8080/"
        },
        "id": "_hTIzX-KEOZ4",
        "outputId": "ffba90c7-a4b3-4793-870f-91aef2ddbe2d"
      },
      "execution_count": null,
      "outputs": [
        {
          "output_type": "stream",
          "name": "stdout",
          "text": [
            "Mean Squared Error: 0.05218294729292488\n"
          ]
        }
      ]
    },
    {
      "cell_type": "code",
      "source": [
        "\n",
        "rf_mse = 0.05218294729292488  # Replace with the actual MSE value\n",
        "n_samples = len(X_test)  # Number of samples in the test set\n",
        "\n",
        "# Calculating R-squared (R^2)\n",
        "# R-squared is a measure of how well the model explains the variability of the target variable\n",
        "# It ranges from 0 to 1, where 1 indicates perfect predictions\n",
        "rf_r2 = 1 - (rf_mse / y_test.var())\n",
        "\n",
        "# Calculating Root Mean Squared Error (RMSE)\n",
        "# RMSE is another measure of the differences between predicted and actual values\n",
        "# It is the square root of the MSE and is expressed in the same units as the target variable\n",
        "rf_rmse = (rf_mse ** 0.5)\n",
        "\n",
        "# Displaying the evaluation metrics\n",
        "print(\"Random Forest Model Evaluation:\")\n",
        "print(\"Mean Squared Error (MSE):\", rf_mse)\n",
        "print(\"R-squared (R^2):\", rf_r2)\n",
        "print(\"Root Mean Squared Error (RMSE):\", rf_rmse)\n"
      ],
      "metadata": {
        "colab": {
          "base_uri": "https://localhost:8080/"
        },
        "id": "7TGnzwTsF3FP",
        "outputId": "4b0d0e7d-0442-4af3-9c78-da51aeab4cd7"
      },
      "execution_count": null,
      "outputs": [
        {
          "output_type": "stream",
          "name": "stdout",
          "text": [
            "Random Forest Model Evaluation:\n",
            "Mean Squared Error (MSE): 0.05218294729292488\n",
            "R-squared (R^2): 0.6581401035344077\n",
            "Root Mean Squared Error (RMSE): 0.22843587129197743\n"
          ]
        }
      ]
    },
    {
      "cell_type": "markdown",
      "source": [
        "model's estimated probabilities for the target variable"
      ],
      "metadata": {
        "id": "1l1GJJXoQGAx"
      }
    },
    {
      "cell_type": "code",
      "source": [
        "# Assuming you have new data for the lunar cycle stored in a DataFrame called new_data\n",
        "# Replace 'Id' and 'Date' with the actual names of the columns in your new data\n",
        "\n",
        "# Drop 'Id' and 'Date' columns if present (assuming they are not used as features)\n",
        "merged_df_features = merged_df.drop(columns=['Id', 'Date', 'Flight'], errors='ignore')\n",
        "\n",
        "# Convert categorical variables to numerical values using one-hot encoding\n",
        "merged_df_features = pd.get_dummies(merged_df_features, columns=['Region', 'Season'])\n",
        "\n",
        "# Make predictions using the trained model\n",
        "predictions = rf_model.predict(merged_df_features)\n",
        "\n",
        "# Print or use the predictions as needed\n",
        "print(\"Predictions:\", predictions)\n",
        "\n"
      ],
      "metadata": {
        "colab": {
          "base_uri": "https://localhost:8080/"
        },
        "id": "jpbCRrr7V73L",
        "outputId": "686aaeb4-8ece-4431-d0a1-91da3abee87f"
      },
      "execution_count": null,
      "outputs": [
        {
          "output_type": "stream",
          "name": "stdout",
          "text": [
            "Predictions: [0.   0.   0.   ... 0.96 0.98 0.98]\n"
          ]
        }
      ]
    },
    {
      "cell_type": "code",
      "source": [
        "y = merged_df['Flight']  # Target variable (migration patterns)\n",
        "X = merged_df[['Timing']]  # Independent variable (timing feature)\n",
        "\n",
        "# Split the data into training and testing sets\n",
        "X_train, X_test, y_train, y_test = train_test_split(X, y, test_size=0.2, random_state=42)\n",
        "\n",
        "# Create a Random Forest regressor object\n",
        "rf_model = RandomForestRegressor(n_estimators=100, random_state=42)\n",
        "\n",
        "# Train the model on the training data\n",
        "rf_model.fit(X_train, y_train)\n",
        "\n",
        "# Prepare the input data with only the 'Timing' feature\n",
        "input_data = pd.DataFrame({\n",
        "    'Timing': [ 0.393776]  # Replace with the actual timing value you want to predict\n",
        "}, columns=['Timing'])  # Include only the 'Timing' feature\n",
        "\n",
        "# Make predictions using the trained model\n",
        "predictions = rf_model.predict(input_data)\n",
        "\n",
        "# Print or use the predictions as needed\n",
        "print(\"Predicted Flight:\", predictions)\n",
        "\n"
      ],
      "metadata": {
        "colab": {
          "base_uri": "https://localhost:8080/"
        },
        "id": "95_gxpo-MvyG",
        "outputId": "8402c206-7ebb-4845-80d7-6bbf60911351"
      },
      "execution_count": null,
      "outputs": [
        {
          "output_type": "stream",
          "name": "stdout",
          "text": [
            "Predicted Flight: [0.18652802]\n"
          ]
        }
      ]
    },
    {
      "cell_type": "code",
      "source": [
        "import pandas as pd\n",
        "\n",
        "\n",
        "# Select the lunar cycle variables and the migration patterns (target variable)\n",
        "lunar_cycle_variables = merged_df[['Timing', 'Exp. Time.','Duration']]\n",
        "migration_patterns = merged_df['Flight']\n",
        "\n",
        "# Calculate correlation matrix\n",
        "correlation_matrix = lunar_cycle_variables.corrwith(migration_patterns)\n",
        "\n",
        "# Print correlation coefficients\n",
        "print(\"Correlation Coefficients:\")\n",
        "print(correlation_matrix)\n"
      ],
      "metadata": {
        "colab": {
          "base_uri": "https://localhost:8080/"
        },
        "id": "uE9HjOTnKY2Y",
        "outputId": "9753e46f-d21a-483f-a8af-bda0eebaa0f0"
      },
      "execution_count": null,
      "outputs": [
        {
          "output_type": "stream",
          "name": "stdout",
          "text": [
            "Correlation Coefficients:\n",
            "Timing       -0.048735\n",
            "Exp. Time.   -0.044474\n",
            "Duration     -0.044474\n",
            "dtype: float64\n"
          ]
        }
      ]
    }
  ]
}